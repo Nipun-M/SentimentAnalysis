{
 "cells": [
  {
   "cell_type": "markdown",
   "metadata": {},
   "source": [
    "# Sentiment analysis : word features for frequency (tf-idf)"
   ]
  },
  {
   "cell_type": "markdown",
   "metadata": {},
   "source": [
    "### import required modules"
   ]
  },
  {
   "cell_type": "code",
   "execution_count": 7,
   "metadata": {},
   "outputs": [],
   "source": [
    "import string\n",
    "from nltk.tokenize import word_tokenize\n",
    "from nltk.corpus import stopwords as sw\n",
    "from nltk.stem import PorterStemmer\n",
    "from nltk.stem import WordNetLemmatizer"
   ]
  },
  {
   "cell_type": "markdown",
   "metadata": {},
   "source": [
    "### define some variables"
   ]
  },
  {
   "cell_type": "code",
   "execution_count": 9,
   "metadata": {},
   "outputs": [],
   "source": [
    "data = load_data_set('data.csv')\n",
    "stopwords = sw.words('english')\n",
    "stemmer = PorterStemmer()\n",
    "lemmatizer = WordNetLemmatizer()\n",
    "frequency_of_words = dict()\n",
    "frequency_per_sentiment = dict()\n",
    "sentiments = set([datum[0] for datum in data])\n",
    "for sentiment in sentiments:\n",
    "    frequency_per_sentiment[sentiment] = dict()"
   ]
  },
  {
   "cell_type": "markdown",
   "metadata": {},
   "source": [
    "### function to process a word"
   ]
  },
  {
   "cell_type": "code",
   "execution_count": 10,
   "metadata": {},
   "outputs": [],
   "source": [
    "def process_word(word):\n",
    "    word = lemmatizer.lemmatize(word)\n",
    "    word = stemmer.stem(word)\n",
    "    return word"
   ]
  },
  {
   "cell_type": "markdown",
   "metadata": {},
   "source": [
    "### function to process a sentence"
   ]
  },
  {
   "cell_type": "code",
   "execution_count": 11,
   "metadata": {},
   "outputs": [],
   "source": [
    "def get_significant_words(sentence):\n",
    "    sentence = sentence.translate(str.maketrans('', '', string.punctuation))\n",
    "    sentence = sentence.lower()\n",
    "    words = word_tokenize(sentence)\n",
    "    words = list(filter(lambda word: word not in stopwords, words))\n",
    "    words = list(map(process_word, words))\n",
    "    return words"
   ]
  },
  {
   "cell_type": "markdown",
   "metadata": {},
   "source": [
    "### function to update the bag of words"
   ]
  },
  {
   "cell_type": "code",
   "execution_count": 12,
   "metadata": {},
   "outputs": [],
   "source": [
    "def update_words_list(sentiment, words):\n",
    "    for word in words:\n",
    "        if word not in frequency_of_words.keys():\n",
    "            frequency_of_words[word] = 1\n",
    "        else:\n",
    "            frequency_of_words[word] += 1\n",
    "\n",
    "        if word not in frequency_per_sentiment[sentiment].keys():\n",
    "            frequency_per_sentiment[sentiment][word] = 1\n",
    "        else:\n",
    "            frequency_per_sentiment[sentiment][word] += 1"
   ]
  },
  {
   "cell_type": "code",
   "execution_count": 14,
   "metadata": {},
   "outputs": [
    {
     "name": "stdout",
     "output_type": "stream",
     "text": [
      "{'day': 2, 'feel': 10, 'close': 4, 'partner': 4, 'friend': 2, 'peac': 2, 'also': 2, 'experi': 2, 'contact': 4, 'peopl': 4, 'regard': 2, 'greatli': 2, 'everi': 2, 'time': 8, 'imagin': 2, 'someon': 2, 'love': 2, 'could': 2, 'seriou': 2, 'ill': 2, 'even': 2, 'death': 4, 'obvious': 2, 'unjustli': 2, 'treat': 2, 'possibl': 2, 'elucid': 2, 'think': 4, 'short': 4, 'live': 2, 'relat': 2, 'period': 2, 'life': 2, 'use': 2, 'gather': 2, 'found': 2, 'involuntarili': 2, 'sit': 2, 'next': 2, 'two': 2, 'express': 2, 'opinion': 2, 'consid': 4, 'low': 2, 'discrimin': 2, 'realiz': 6, 'direct': 2, 'discont': 2, 'way': 2, 'tri': 2, 'put': 2, 'blame': 2, 'instead': 2, 'sort': 2, 'feeli': 2, 'guilti': 2, 'materi': 2, 'thing': 2, 'import': 2, 'care': 2, 'rel': 2, 'selfcent': 2, 'girlfriend': 2, 'taken': 2, 'exam': 2, 'went': 2, 'parent': 2, 'place': 2, 'first': 2, 'mean': 2, 'car': 2, 'overtak': 2, 'anoth': 2, 'forc': 2, 'drive': 2, 'road': 2}\n",
      "{'disgust': {'gather': 2, 'found': 2, 'involuntarili': 2, 'sit': 2, 'next': 2, 'two': 2, 'peopl': 2, 'express': 2, 'opinion': 2, 'consid': 2, 'low': 2, 'discrimin': 2}, 'sadness': {'think': 4, 'short': 4, 'time': 4, 'live': 2, 'relat': 2, 'period': 2, 'life': 2, 'use': 2}, 'joy': {'day': 2, 'feel': 4, 'close': 4, 'partner': 2, 'friend': 2, 'peac': 2, 'also': 2, 'experi': 2, 'contact': 2, 'peopl': 2, 'regard': 2, 'greatli': 2, 'girlfriend': 2, 'taken': 2, 'exam': 2, 'went': 2, 'parent': 2, 'place': 2}, 'shame': {'realiz': 2, 'direct': 2, 'feel': 2, 'discont': 2, 'partner': 2, 'way': 2, 'tri': 2, 'put': 2, 'blame': 2, 'instead': 2, 'sort': 2, 'feeli': 2}, 'fear': {'everi': 2, 'time': 4, 'imagin': 2, 'someon': 2, 'love': 2, 'could': 2, 'contact': 2, 'seriou': 2, 'ill': 2, 'even': 2, 'death': 4, 'first': 2, 'realiz': 2, 'mean': 2}, 'guilt': {'feel': 4, 'guilti': 2, 'realiz': 2, 'consid': 2, 'materi': 2, 'thing': 2, 'import': 2, 'care': 2, 'rel': 2, 'selfcent': 2}, 'anger': {'obvious': 2, 'unjustli': 2, 'treat': 2, 'possibl': 2, 'elucid': 2, 'car': 2, 'overtak': 2, 'anoth': 2, 'forc': 2, 'drive': 2, 'road': 2}}\n"
     ]
    }
   ],
   "source": [
    "for datum in data[:10]:\n",
    "    features = get_significant_words(datum[1])\n",
    "    update_words_list(datum[0], features)\n",
    "print(frequency_of_words)\n",
    "print(frequency_per_sentiment)"
   ]
  },
  {
   "cell_type": "code",
   "execution_count": null,
   "metadata": {},
   "outputs": [],
   "source": []
  }
 ],
 "metadata": {
  "kernelspec": {
   "display_name": "Python 3",
   "language": "python",
   "name": "python3"
  },
  "language_info": {
   "codemirror_mode": {
    "name": "ipython",
    "version": 3
   },
   "file_extension": ".py",
   "mimetype": "text/x-python",
   "name": "python",
   "nbconvert_exporter": "python",
   "pygments_lexer": "ipython3",
   "version": "3.6.2"
  }
 },
 "nbformat": 4,
 "nbformat_minor": 2
}
