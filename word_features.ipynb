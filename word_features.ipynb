{
 "cells": [
  {
   "cell_type": "markdown",
   "metadata": {},
   "source": [
    "# Sentiment analysis : word features for frequency (tf-idf)"
   ]
  },
  {
   "cell_type": "markdown",
   "metadata": {},
   "source": [
    "### import required modules"
   ]
  },
  {
   "cell_type": "code",
   "execution_count": 18,
   "metadata": {},
   "outputs": [],
   "source": [
    "import string\n",
    "from nltk.tokenize import word_tokenize\n",
    "from nltk.corpus import stopwords as sw\n",
    "from nltk.stem import PorterStemmer\n",
    "from nltk.stem import WordNetLemmatizer"
   ]
  },
  {
   "cell_type": "markdown",
   "metadata": {},
   "source": [
    "### define some variables"
   ]
  },
  {
   "cell_type": "code",
   "execution_count": 19,
   "metadata": {},
   "outputs": [],
   "source": [
    "data = load_data_set('data.csv')\n",
    "stopwords = sw.words('english')\n",
    "stemmer = PorterStemmer()\n",
    "lemmatizer = WordNetLemmatizer()\n",
    "frequency_of_words = dict()\n",
    "frequency_per_sentiment = dict()\n",
    "sentiments = set([datum[0] for datum in data])\n",
    "for sentiment in sentiments:\n",
    "    frequency_per_sentiment[sentiment] = dict()"
   ]
  },
  {
   "cell_type": "markdown",
   "metadata": {},
   "source": [
    "### function to load the dataset from the file"
   ]
  },
  {
   "cell_type": "code",
   "execution_count": 20,
   "metadata": {},
   "outputs": [],
   "source": [
    "def load_data_set(filename):\n",
    "    csv_reader = csv.reader(open(filename))\n",
    "    data = list()\n",
    "    for row in csv_reader:\n",
    "        senti = row[0]\n",
    "        content = ','.join(row[1:])\n",
    "        data.append((senti, content))\n",
    "    data.pop(0)\n",
    "    return data"
   ]
  },
  {
   "cell_type": "markdown",
   "metadata": {},
   "source": [
    "### function to process a word"
   ]
  },
  {
   "cell_type": "code",
   "execution_count": 21,
   "metadata": {},
   "outputs": [],
   "source": [
    "def process_word(word):\n",
    "    word = lemmatizer.lemmatize(word)\n",
    "    word = stemmer.stem(word)\n",
    "    return word"
   ]
  },
  {
   "cell_type": "markdown",
   "metadata": {},
   "source": [
    "### function to process a sentence"
   ]
  },
  {
   "cell_type": "code",
   "execution_count": 22,
   "metadata": {},
   "outputs": [],
   "source": [
    "def get_significant_words(sentence):\n",
    "    sentence = sentence.translate(str.maketrans('', '', string.punctuation))\n",
    "    sentence = sentence.lower()\n",
    "    words = word_tokenize(sentence)\n",
    "    words = list(filter(lambda word: word not in stopwords, words))\n",
    "    words = list(map(process_word, words))\n",
    "    return words"
   ]
  },
  {
   "cell_type": "markdown",
   "metadata": {},
   "source": [
    "### function to update the bag of words"
   ]
  },
  {
   "cell_type": "code",
   "execution_count": 23,
   "metadata": {},
   "outputs": [],
   "source": [
    "def update_words_list(sentiment, words):\n",
    "    for word in words:\n",
    "        if word not in frequency_of_words.keys():\n",
    "            frequency_of_words[word] = 1\n",
    "        else:\n",
    "            frequency_of_words[word] += 1\n",
    "\n",
    "        if word not in frequency_per_sentiment[sentiment].keys():\n",
    "            frequency_per_sentiment[sentiment][word] = 1\n",
    "        else:\n",
    "            frequency_per_sentiment[sentiment][word] += 1"
   ]
  },
  {
   "cell_type": "code",
   "execution_count": 24,
   "metadata": {},
   "outputs": [
    {
     "name": "stdout",
     "output_type": "stream",
     "text": [
      "{'day': 1, 'feel': 5, 'close': 2, 'partner': 2, 'friend': 1, 'peac': 1, 'also': 1, 'experi': 1, 'contact': 2, 'peopl': 2, 'regard': 1, 'greatli': 1, 'everi': 1, 'time': 4, 'imagin': 1, 'someon': 1, 'love': 1, 'could': 1, 'seriou': 1, 'ill': 1, 'even': 1, 'death': 2, 'obvious': 1, 'unjustli': 1, 'treat': 1, 'possibl': 1, 'elucid': 1, 'think': 2, 'short': 2, 'live': 1, 'relat': 1, 'period': 1, 'life': 1, 'use': 1, 'gather': 1, 'found': 1, 'involuntarili': 1, 'sit': 1, 'next': 1, 'two': 1, 'express': 1, 'opinion': 1, 'consid': 2, 'low': 1, 'discrimin': 1, 'realiz': 3, 'direct': 1, 'discont': 1, 'way': 1, 'tri': 1, 'put': 1, 'blame': 1, 'instead': 1, 'sort': 1, 'feeli': 1, 'guilti': 1, 'materi': 1, 'thing': 1, 'import': 1, 'care': 1, 'rel': 1, 'selfcent': 1, 'girlfriend': 1, 'taken': 1, 'exam': 1, 'went': 1, 'parent': 1, 'place': 1, 'first': 1, 'mean': 1, 'car': 1, 'overtak': 1, 'anoth': 1, 'forc': 1, 'drive': 1, 'road': 1}\n",
      "{'disgust': {'gather': 1, 'found': 1, 'involuntarili': 1, 'sit': 1, 'next': 1, 'two': 1, 'peopl': 1, 'express': 1, 'opinion': 1, 'consid': 1, 'low': 1, 'discrimin': 1}, 'sadness': {'think': 2, 'short': 2, 'time': 2, 'live': 1, 'relat': 1, 'period': 1, 'life': 1, 'use': 1}, 'joy': {'day': 1, 'feel': 2, 'close': 2, 'partner': 1, 'friend': 1, 'peac': 1, 'also': 1, 'experi': 1, 'contact': 1, 'peopl': 1, 'regard': 1, 'greatli': 1, 'girlfriend': 1, 'taken': 1, 'exam': 1, 'went': 1, 'parent': 1, 'place': 1}, 'shame': {'realiz': 1, 'direct': 1, 'feel': 1, 'discont': 1, 'partner': 1, 'way': 1, 'tri': 1, 'put': 1, 'blame': 1, 'instead': 1, 'sort': 1, 'feeli': 1}, 'fear': {'everi': 1, 'time': 2, 'imagin': 1, 'someon': 1, 'love': 1, 'could': 1, 'contact': 1, 'seriou': 1, 'ill': 1, 'even': 1, 'death': 2, 'first': 1, 'realiz': 1, 'mean': 1}, 'guilt': {'feel': 2, 'guilti': 1, 'realiz': 1, 'consid': 1, 'materi': 1, 'thing': 1, 'import': 1, 'care': 1, 'rel': 1, 'selfcent': 1}, 'anger': {'obvious': 1, 'unjustli': 1, 'treat': 1, 'possibl': 1, 'elucid': 1, 'car': 1, 'overtak': 1, 'anoth': 1, 'forc': 1, 'drive': 1, 'road': 1}}\n"
     ]
    }
   ],
   "source": [
    "for datum in data[:10]:\n",
    "    features = get_significant_words(datum[1])\n",
    "    update_words_list(datum[0], features)\n",
    "print(frequency_of_words)\n",
    "print(frequency_per_sentiment)"
   ]
  }
 ],
 "metadata": {
  "kernelspec": {
   "display_name": "Python 3",
   "language": "python",
   "name": "python3"
  },
  "language_info": {
   "codemirror_mode": {
    "name": "ipython",
    "version": 3
   },
   "file_extension": ".py",
   "mimetype": "text/x-python",
   "name": "python",
   "nbconvert_exporter": "python",
   "pygments_lexer": "ipython3",
   "version": "3.6.2"
  }
 },
 "nbformat": 4,
 "nbformat_minor": 2
}
